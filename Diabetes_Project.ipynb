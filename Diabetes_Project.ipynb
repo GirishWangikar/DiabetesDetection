{
  "nbformat": 4,
  "nbformat_minor": 0,
  "metadata": {
    "colab": {
      "name": "Diabetes_Project.ipynb",
      "provenance": [],
      "collapsed_sections": []
    },
    "kernelspec": {
      "name": "python3",
      "display_name": "Python 3"
    },
    "language_info": {
      "name": "python"
    }
  },
  "cells": [
    {
      "cell_type": "code",
      "metadata": {
        "colab": {
          "base_uri": "https://localhost:8080/",
          "height": 206
        },
        "id": "Xed0jqogWnbX",
        "outputId": "e71fa1e3-fc6d-4689-cbb9-2533602ea9cb"
      },
      "source": [
        "import pandas as pd\n",
        "import numpy as np\n",
        "import matplotlib.pyplot as plt\n",
        "%matplotlib inline\n",
        "db = pd.read_csv('diabetes.csv')\n",
        "db.head()"
      ],
      "execution_count": 1,
      "outputs": [
        {
          "output_type": "execute_result",
          "data": {
            "text/html": [
              "<div>\n",
              "<style scoped>\n",
              "    .dataframe tbody tr th:only-of-type {\n",
              "        vertical-align: middle;\n",
              "    }\n",
              "\n",
              "    .dataframe tbody tr th {\n",
              "        vertical-align: top;\n",
              "    }\n",
              "\n",
              "    .dataframe thead th {\n",
              "        text-align: right;\n",
              "    }\n",
              "</style>\n",
              "<table border=\"1\" class=\"dataframe\">\n",
              "  <thead>\n",
              "    <tr style=\"text-align: right;\">\n",
              "      <th></th>\n",
              "      <th>Pregnancies</th>\n",
              "      <th>Glucose</th>\n",
              "      <th>BloodPressure</th>\n",
              "      <th>SkinThickness</th>\n",
              "      <th>Insulin</th>\n",
              "      <th>BMI</th>\n",
              "      <th>DiabetesPedigreeFunction</th>\n",
              "      <th>Age</th>\n",
              "      <th>Outcome</th>\n",
              "    </tr>\n",
              "  </thead>\n",
              "  <tbody>\n",
              "    <tr>\n",
              "      <th>0</th>\n",
              "      <td>6</td>\n",
              "      <td>148</td>\n",
              "      <td>72</td>\n",
              "      <td>35</td>\n",
              "      <td>0</td>\n",
              "      <td>33.6</td>\n",
              "      <td>0.627</td>\n",
              "      <td>50</td>\n",
              "      <td>1</td>\n",
              "    </tr>\n",
              "    <tr>\n",
              "      <th>1</th>\n",
              "      <td>1</td>\n",
              "      <td>85</td>\n",
              "      <td>66</td>\n",
              "      <td>29</td>\n",
              "      <td>0</td>\n",
              "      <td>26.6</td>\n",
              "      <td>0.351</td>\n",
              "      <td>31</td>\n",
              "      <td>0</td>\n",
              "    </tr>\n",
              "    <tr>\n",
              "      <th>2</th>\n",
              "      <td>8</td>\n",
              "      <td>183</td>\n",
              "      <td>64</td>\n",
              "      <td>0</td>\n",
              "      <td>0</td>\n",
              "      <td>23.3</td>\n",
              "      <td>0.672</td>\n",
              "      <td>32</td>\n",
              "      <td>1</td>\n",
              "    </tr>\n",
              "    <tr>\n",
              "      <th>3</th>\n",
              "      <td>1</td>\n",
              "      <td>89</td>\n",
              "      <td>66</td>\n",
              "      <td>23</td>\n",
              "      <td>94</td>\n",
              "      <td>28.1</td>\n",
              "      <td>0.167</td>\n",
              "      <td>21</td>\n",
              "      <td>0</td>\n",
              "    </tr>\n",
              "    <tr>\n",
              "      <th>4</th>\n",
              "      <td>0</td>\n",
              "      <td>137</td>\n",
              "      <td>40</td>\n",
              "      <td>35</td>\n",
              "      <td>168</td>\n",
              "      <td>43.1</td>\n",
              "      <td>2.288</td>\n",
              "      <td>33</td>\n",
              "      <td>1</td>\n",
              "    </tr>\n",
              "  </tbody>\n",
              "</table>\n",
              "</div>"
            ],
            "text/plain": [
              "   Pregnancies  Glucose  BloodPressure  ...  DiabetesPedigreeFunction  Age  Outcome\n",
              "0            6      148             72  ...                     0.627   50        1\n",
              "1            1       85             66  ...                     0.351   31        0\n",
              "2            8      183             64  ...                     0.672   32        1\n",
              "3            1       89             66  ...                     0.167   21        0\n",
              "4            0      137             40  ...                     2.288   33        1\n",
              "\n",
              "[5 rows x 9 columns]"
            ]
          },
          "metadata": {},
          "execution_count": 1
        }
      ]
    },
    {
      "cell_type": "code",
      "metadata": {
        "id": "bY8IzPrMXMxN",
        "colab": {
          "base_uri": "https://localhost:8080/"
        },
        "outputId": "147c4713-6414-407c-8c42-668ef203b2f2"
      },
      "source": [
        "db.keys()"
      ],
      "execution_count": 2,
      "outputs": [
        {
          "output_type": "execute_result",
          "data": {
            "text/plain": [
              "Index(['Pregnancies', 'Glucose', 'BloodPressure', 'SkinThickness', 'Insulin',\n",
              "       'BMI', 'DiabetesPedigreeFunction', 'Age', 'Outcome'],\n",
              "      dtype='object')"
            ]
          },
          "metadata": {},
          "execution_count": 2
        }
      ]
    },
    {
      "cell_type": "code",
      "metadata": {
        "id": "aK9cwqQjXTEE",
        "colab": {
          "base_uri": "https://localhost:8080/",
          "height": 143
        },
        "outputId": "22d17df3-7479-4ece-a251-a13b8d772f3e"
      },
      "source": [
        "db.groupby('Outcome').count()"
      ],
      "execution_count": 3,
      "outputs": [
        {
          "output_type": "execute_result",
          "data": {
            "text/html": [
              "<div>\n",
              "<style scoped>\n",
              "    .dataframe tbody tr th:only-of-type {\n",
              "        vertical-align: middle;\n",
              "    }\n",
              "\n",
              "    .dataframe tbody tr th {\n",
              "        vertical-align: top;\n",
              "    }\n",
              "\n",
              "    .dataframe thead th {\n",
              "        text-align: right;\n",
              "    }\n",
              "</style>\n",
              "<table border=\"1\" class=\"dataframe\">\n",
              "  <thead>\n",
              "    <tr style=\"text-align: right;\">\n",
              "      <th></th>\n",
              "      <th>Pregnancies</th>\n",
              "      <th>Glucose</th>\n",
              "      <th>BloodPressure</th>\n",
              "      <th>SkinThickness</th>\n",
              "      <th>Insulin</th>\n",
              "      <th>BMI</th>\n",
              "      <th>DiabetesPedigreeFunction</th>\n",
              "      <th>Age</th>\n",
              "    </tr>\n",
              "    <tr>\n",
              "      <th>Outcome</th>\n",
              "      <th></th>\n",
              "      <th></th>\n",
              "      <th></th>\n",
              "      <th></th>\n",
              "      <th></th>\n",
              "      <th></th>\n",
              "      <th></th>\n",
              "      <th></th>\n",
              "    </tr>\n",
              "  </thead>\n",
              "  <tbody>\n",
              "    <tr>\n",
              "      <th>0</th>\n",
              "      <td>500</td>\n",
              "      <td>500</td>\n",
              "      <td>500</td>\n",
              "      <td>500</td>\n",
              "      <td>500</td>\n",
              "      <td>500</td>\n",
              "      <td>500</td>\n",
              "      <td>500</td>\n",
              "    </tr>\n",
              "    <tr>\n",
              "      <th>1</th>\n",
              "      <td>268</td>\n",
              "      <td>268</td>\n",
              "      <td>268</td>\n",
              "      <td>268</td>\n",
              "      <td>268</td>\n",
              "      <td>268</td>\n",
              "      <td>268</td>\n",
              "      <td>268</td>\n",
              "    </tr>\n",
              "  </tbody>\n",
              "</table>\n",
              "</div>"
            ],
            "text/plain": [
              "         Pregnancies  Glucose  ...  DiabetesPedigreeFunction  Age\n",
              "Outcome                        ...                               \n",
              "0                500      500  ...                       500  500\n",
              "1                268      268  ...                       268  268\n",
              "\n",
              "[2 rows x 8 columns]"
            ]
          },
          "metadata": {},
          "execution_count": 3
        }
      ]
    },
    {
      "cell_type": "code",
      "metadata": {
        "id": "f2eEF5xbXT-2"
      },
      "source": [
        "feature=db.iloc[:,[0,1,2,3,4,5,6,7]]\n",
        "label=db['Outcome']"
      ],
      "execution_count": 4,
      "outputs": []
    },
    {
      "cell_type": "code",
      "metadata": {
        "id": "e2R1Inb4YA3o",
        "colab": {
          "base_uri": "https://localhost:8080/"
        },
        "outputId": "b8e76720-784d-461d-86b5-f6d1a0d4bffd"
      },
      "source": [
        "label"
      ],
      "execution_count": 5,
      "outputs": [
        {
          "output_type": "execute_result",
          "data": {
            "text/plain": [
              "0      1\n",
              "1      0\n",
              "2      1\n",
              "3      0\n",
              "4      1\n",
              "      ..\n",
              "763    0\n",
              "764    0\n",
              "765    0\n",
              "766    1\n",
              "767    0\n",
              "Name: Outcome, Length: 768, dtype: int64"
            ]
          },
          "metadata": {},
          "execution_count": 5
        }
      ]
    },
    {
      "cell_type": "code",
      "metadata": {
        "id": "THwR1v5Ma6Dk"
      },
      "source": [
        "x_train=feature[:700]\n",
        "y_train=label[:700]\n",
        "\n",
        "x_test=feature[700:750]\n",
        "y_test=label[700:750]\n",
        "\n",
        "x_val=feature[750:]\n",
        "y_val=label[750:]\n"
      ],
      "execution_count": 27,
      "outputs": []
    },
    {
      "cell_type": "code",
      "metadata": {
        "id": "jIwmP_EWbJ0R"
      },
      "source": [
        "from keras.models import Sequential \n",
        "from keras.layers import Dense"
      ],
      "execution_count": 28,
      "outputs": []
    },
    {
      "cell_type": "code",
      "metadata": {
        "id": "55Q2IgPqbXWB"
      },
      "source": [
        "model = Sequential()\n",
        "\n",
        "model.add(Dense(32, activation = 'relu', input_dim = 8))\n",
        "model.add(Dense(64, activation = 'relu'))\n",
        "model.add(Dense(128, activation = 'relu'))\n",
        "model.add(Dense(64, activation = 'relu'))\n",
        "model.add(Dense(32, activation = 'relu'))\n",
        "model.add(Dense(1, activation = 'sigmoid'))\n",
        "\n",
        "model.compile( loss = 'binary_crossentropy' , optimizer = 'adam' , metrics = ['accuracy'])"
      ],
      "execution_count": 29,
      "outputs": []
    },
    {
      "cell_type": "code",
      "metadata": {
        "id": "dXgWU2kFcH9Q",
        "colab": {
          "base_uri": "https://localhost:8080/"
        },
        "outputId": "d3fbb276-d686-4c41-e3d9-c68ca771cd38"
      },
      "source": [
        "model.fit( x_train , y_train, epochs = 20, batch_size = 5, validation_data = (x_val, y_val))"
      ],
      "execution_count": 30,
      "outputs": [
        {
          "output_type": "stream",
          "name": "stdout",
          "text": [
            "Epoch 1/20\n",
            "140/140 [==============================] - 1s 3ms/step - loss: 0.9516 - accuracy: 0.6200 - val_loss: 1.1069 - val_accuracy: 0.6111\n",
            "Epoch 2/20\n",
            "140/140 [==============================] - 0s 2ms/step - loss: 0.7089 - accuracy: 0.6400 - val_loss: 0.6437 - val_accuracy: 0.6667\n",
            "Epoch 3/20\n",
            "140/140 [==============================] - 0s 2ms/step - loss: 0.6769 - accuracy: 0.6471 - val_loss: 0.7024 - val_accuracy: 0.5556\n",
            "Epoch 4/20\n",
            "140/140 [==============================] - 0s 2ms/step - loss: 0.6260 - accuracy: 0.6829 - val_loss: 0.7222 - val_accuracy: 0.7778\n",
            "Epoch 5/20\n",
            "140/140 [==============================] - 0s 2ms/step - loss: 0.6173 - accuracy: 0.6829 - val_loss: 0.6534 - val_accuracy: 0.5556\n",
            "Epoch 6/20\n",
            "140/140 [==============================] - 0s 2ms/step - loss: 0.5969 - accuracy: 0.6957 - val_loss: 0.6935 - val_accuracy: 0.5556\n",
            "Epoch 7/20\n",
            "140/140 [==============================] - 0s 2ms/step - loss: 0.5872 - accuracy: 0.6914 - val_loss: 0.7490 - val_accuracy: 0.7222\n",
            "Epoch 8/20\n",
            "140/140 [==============================] - 0s 2ms/step - loss: 0.5794 - accuracy: 0.6929 - val_loss: 0.7536 - val_accuracy: 0.6111\n",
            "Epoch 9/20\n",
            "140/140 [==============================] - 0s 2ms/step - loss: 0.5760 - accuracy: 0.6971 - val_loss: 0.5675 - val_accuracy: 0.6667\n",
            "Epoch 10/20\n",
            "140/140 [==============================] - 0s 2ms/step - loss: 0.5729 - accuracy: 0.7143 - val_loss: 0.6631 - val_accuracy: 0.5556\n",
            "Epoch 11/20\n",
            "140/140 [==============================] - 0s 2ms/step - loss: 0.5674 - accuracy: 0.7043 - val_loss: 0.6999 - val_accuracy: 0.5000\n",
            "Epoch 12/20\n",
            "140/140 [==============================] - 0s 2ms/step - loss: 0.5501 - accuracy: 0.7214 - val_loss: 0.6311 - val_accuracy: 0.6111\n",
            "Epoch 13/20\n",
            "140/140 [==============================] - 0s 2ms/step - loss: 0.5583 - accuracy: 0.7200 - val_loss: 0.5992 - val_accuracy: 0.7778\n",
            "Epoch 14/20\n",
            "140/140 [==============================] - 0s 2ms/step - loss: 0.5441 - accuracy: 0.7343 - val_loss: 0.6243 - val_accuracy: 0.6111\n",
            "Epoch 15/20\n",
            "140/140 [==============================] - 0s 2ms/step - loss: 0.5456 - accuracy: 0.7314 - val_loss: 0.6329 - val_accuracy: 0.7778\n",
            "Epoch 16/20\n",
            "140/140 [==============================] - 0s 2ms/step - loss: 0.5385 - accuracy: 0.7357 - val_loss: 0.5713 - val_accuracy: 0.7778\n",
            "Epoch 17/20\n",
            "140/140 [==============================] - 0s 2ms/step - loss: 0.5287 - accuracy: 0.7257 - val_loss: 0.6138 - val_accuracy: 0.7778\n",
            "Epoch 18/20\n",
            "140/140 [==============================] - 0s 2ms/step - loss: 0.5325 - accuracy: 0.7371 - val_loss: 0.5459 - val_accuracy: 0.7222\n",
            "Epoch 19/20\n",
            "140/140 [==============================] - 0s 2ms/step - loss: 0.5258 - accuracy: 0.7400 - val_loss: 0.6252 - val_accuracy: 0.6667\n",
            "Epoch 20/20\n",
            "140/140 [==============================] - 0s 2ms/step - loss: 0.5242 - accuracy: 0.7300 - val_loss: 0.5675 - val_accuracy: 0.6667\n"
          ]
        },
        {
          "output_type": "execute_result",
          "data": {
            "text/plain": [
              "<keras.callbacks.History at 0x7ff3719e1750>"
            ]
          },
          "metadata": {},
          "execution_count": 30
        }
      ]
    },
    {
      "cell_type": "code",
      "metadata": {
        "id": "kGK908JIcKsq",
        "colab": {
          "base_uri": "https://localhost:8080/"
        },
        "outputId": "e9c56c90-b0e6-4408-8cbe-fd113b44b0b1"
      },
      "source": [
        "model.evaluate(x_test , y_test)\n",
        "## acccuracy is y_test value which is 74%\n"
      ],
      "execution_count": 31,
      "outputs": [
        {
          "output_type": "stream",
          "name": "stdout",
          "text": [
            "2/2 [==============================] - 0s 4ms/step - loss: 0.6752 - accuracy: 0.7400\n"
          ]
        },
        {
          "output_type": "execute_result",
          "data": {
            "text/plain": [
              "[0.6751542687416077, 0.7400000095367432]"
            ]
          },
          "metadata": {},
          "execution_count": 31
        }
      ]
    },
    {
      "cell_type": "markdown",
      "metadata": {
        "id": "HyvzHXf8DhfO"
      },
      "source": [
        "# **Using this model we get accuracy of 74% as seen above**"
      ]
    },
    {
      "cell_type": "markdown",
      "metadata": {
        "id": "Ofro-UHY4OmP"
      },
      "source": [
        "# **Alternate model using SVM for better accuracy**"
      ]
    },
    {
      "cell_type": "code",
      "metadata": {
        "id": "8whVMtIjcu9K"
      },
      "source": [
        "from sklearn.model_selection import train_test_split\n",
        "X_train, X_test, y_train, y_test = train_test_split(db.loc[:, db.columns != 'Outcome'], db['Outcome'], stratify=db['Outcome'], random_state=66)"
      ],
      "execution_count": 11,
      "outputs": []
    },
    {
      "cell_type": "code",
      "metadata": {
        "colab": {
          "base_uri": "https://localhost:8080/"
        },
        "id": "i1eMv9NCygKU",
        "outputId": "8f4f4149-aa82-4fd2-be70-6fd1c8fe11cb"
      },
      "source": [
        "from sklearn.svm import SVC\n",
        "svc = SVC()\n",
        "svc.fit(X_train, y_train)\n",
        "print(\"Accuracy on training set: {:.2f}\".format(svc.score(X_train, y_train)))\n",
        "print(\"Accuracy on test set: {:.2f}\".format(svc.score(X_test, y_test)))\n"
      ],
      "execution_count": 12,
      "outputs": [
        {
          "output_type": "stream",
          "name": "stdout",
          "text": [
            "Accuracy on training set: 0.77\n",
            "Accuracy on test set: 0.76\n"
          ]
        }
      ]
    },
    {
      "cell_type": "code",
      "metadata": {
        "id": "zDljzteOdL0-",
        "colab": {
          "base_uri": "https://localhost:8080/"
        },
        "outputId": "14efe75e-3150-4578-cc23-aa39d698a9fc"
      },
      "source": [
        "from sklearn.preprocessing import MinMaxScaler\n",
        "scaler = MinMaxScaler()\n",
        "X_train_scaled = scaler.fit_transform(X_train)\n",
        "X_test_scaled = scaler.fit_transform(X_test)\n",
        "svc = SVC()\n",
        "svc.fit(X_train_scaled, y_train)\n",
        "train=svc.score(X_train_scaled, y_train)\n",
        "test=svc.score(X_test_scaled, y_test)\n",
        "print(\"Accuracy on training set: {:.2f}\".format(train*100))\n",
        "print(\"Accuracy on test set: {:.2f}\".format(test*100))"
      ],
      "execution_count": 13,
      "outputs": [
        {
          "output_type": "stream",
          "name": "stdout",
          "text": [
            "Accuracy on training set: 78.82\n",
            "Accuracy on test set: 79.69\n"
          ]
        }
      ]
    },
    {
      "cell_type": "code",
      "metadata": {
        "id": "Grw9I4f8eFAH",
        "colab": {
          "base_uri": "https://localhost:8080/",
          "height": 337
        },
        "outputId": "69d4e3aa-85a8-40d0-84ff-eec51ea479c3"
      },
      "source": [
        "import seaborn as sns\n",
        "sns.countplot(['train','test'],label=\"Accuracy\")\n"
      ],
      "execution_count": 14,
      "outputs": [
        {
          "output_type": "stream",
          "name": "stderr",
          "text": [
            "/usr/local/lib/python3.7/dist-packages/seaborn/_decorators.py:43: FutureWarning: Pass the following variable as a keyword arg: x. From version 0.12, the only valid positional argument will be `data`, and passing other arguments without an explicit keyword will result in an error or misinterpretation.\n",
            "  FutureWarning\n"
          ]
        },
        {
          "output_type": "execute_result",
          "data": {
            "text/plain": [
              "<matplotlib.axes._subplots.AxesSubplot at 0x7ff368010550>"
            ]
          },
          "metadata": {},
          "execution_count": 14
        },
        {
          "output_type": "display_data",
          "data": {
            "image/png": "[encoded data removed]",
            "text/plain": [
              "<Figure size 432x288 with 1 Axes>"
            ]
          },
          "metadata": {
            "needs_background": "light"
          }
        }
      ]
    }
  ]
}